{
 "cells": [
  {
   "cell_type": "code",
   "execution_count": 1,
   "metadata": {
    "collapsed": true
   },
   "outputs": [],
   "source": [
    "import numpy as np\n",
    "import pandas as pd"
   ]
  },
  {
   "cell_type": "code",
   "execution_count": 2,
   "metadata": {
    "collapsed": true
   },
   "outputs": [],
   "source": [
    "#problem4"
   ]
  },
  {
   "cell_type": "code",
   "execution_count": 9,
   "metadata": {
    "collapsed": true
   },
   "outputs": [],
   "source": [
    "path = '/Users/Vadim/Desktop/Python/HA3/'\n",
    "name = 'goalies-2014-2016.csv'"
   ]
  },
  {
   "cell_type": "code",
   "execution_count": 16,
   "metadata": {
    "collapsed": false
   },
   "outputs": [],
   "source": [
    "df = pd.read_csv(path+name,sep=';')"
   ]
  },
  {
   "cell_type": "code",
   "execution_count": 21,
   "metadata": {
    "collapsed": false,
    "scrolled": true
   },
   "outputs": [
    {
     "data": {
      "text/html": [
       "<div>\n",
       "<table border=\"1\" class=\"dataframe\">\n",
       "  <thead>\n",
       "    <tr style=\"text-align: right;\">\n",
       "      <th></th>\n",
       "      <th>n</th>\n",
       "      <th>player</th>\n",
       "      <th>season</th>\n",
       "      <th>team</th>\n",
       "      <th>position</th>\n",
       "      <th>games_played</th>\n",
       "    </tr>\n",
       "  </thead>\n",
       "  <tbody>\n",
       "    <tr>\n",
       "      <th>0</th>\n",
       "      <td>1</td>\n",
       "      <td>Cam Talbot</td>\n",
       "      <td>2016-17</td>\n",
       "      <td>EDM</td>\n",
       "      <td>G</td>\n",
       "      <td>73</td>\n",
       "    </tr>\n",
       "    <tr>\n",
       "      <th>1</th>\n",
       "      <td>2</td>\n",
       "      <td>Braden Holtby</td>\n",
       "      <td>2016-17</td>\n",
       "      <td>WSH</td>\n",
       "      <td>G</td>\n",
       "      <td>63</td>\n",
       "    </tr>\n",
       "    <tr>\n",
       "      <th>2</th>\n",
       "      <td>3</td>\n",
       "      <td>Sergei Bobrovsky</td>\n",
       "      <td>2016-17</td>\n",
       "      <td>CBJ</td>\n",
       "      <td>G</td>\n",
       "      <td>63</td>\n",
       "    </tr>\n",
       "    <tr>\n",
       "      <th>3</th>\n",
       "      <td>4</td>\n",
       "      <td>Devan Dubnyk</td>\n",
       "      <td>2016-17</td>\n",
       "      <td>MIN</td>\n",
       "      <td>G</td>\n",
       "      <td>65</td>\n",
       "    </tr>\n",
       "    <tr>\n",
       "      <th>4</th>\n",
       "      <td>5</td>\n",
       "      <td>Tuukka Rask</td>\n",
       "      <td>2016-17</td>\n",
       "      <td>BOS</td>\n",
       "      <td>G</td>\n",
       "      <td>65</td>\n",
       "    </tr>\n",
       "  </tbody>\n",
       "</table>\n",
       "</div>"
      ],
      "text/plain": [
       "   n            player   season team position  games_played\n",
       "0  1        Cam Talbot  2016-17  EDM        G            73\n",
       "1  2     Braden Holtby  2016-17  WSH        G            63\n",
       "2  3  Sergei Bobrovsky  2016-17  CBJ        G            63\n",
       "3  4      Devan Dubnyk  2016-17  MIN        G            65\n",
       "4  5       Tuukka Rask  2016-17  BOS        G            65"
      ]
     },
     "execution_count": 21,
     "metadata": {},
     "output_type": "execute_result"
    }
   ],
   "source": [
    "#4.1\n",
    "df[df.columns[:6]].iloc[:5]"
   ]
  },
  {
   "cell_type": "code",
   "execution_count": 30,
   "metadata": {
    "collapsed": false
   },
   "outputs": [
    {
     "data": {
      "text/plain": [
       "0.00059325605900950595"
      ]
     },
     "execution_count": 30,
     "metadata": {},
     "output_type": "execute_result"
    }
   ],
   "source": [
    "#4.2\n",
    "abs(df['save_percentage']-df['saves']/df['shots_against']).max()"
   ]
  },
  {
   "cell_type": "code",
   "execution_count": 39,
   "metadata": {
    "collapsed": false
   },
   "outputs": [
    {
     "name": "stdout",
     "output_type": "stream",
     "text": [
      " Averages:\n",
      "\n",
      " games_played: 28.476702508960575 \n",
      " goals_against: 67.60573476702508 \n",
      " save_percentage: 0.901179211469534 \n",
      "\n",
      " Standard deviations:\n",
      "\n",
      " games_played: 22.28539530193931 \n",
      " goals_against: 53.351779174596096 \n",
      " save_percentage: 0.07126001228217074\n"
     ]
    }
   ],
   "source": [
    "#4.3\n",
    "print(\n",
    "\n",
    "    ' Averages:\\n\\n',\n",
    "    'games_played:',df['games_played'].mean(),'\\n',\n",
    "    'goals_against:',df['goals_against'].mean(),'\\n',\n",
    "    'save_percentage:',df['save_percentage'].mean(),'\\n\\n',\n",
    "\n",
    "    'Standard deviations:\\n\\n',\n",
    "    'games_played:',df['games_played'].std(),'\\n',\n",
    "    'goals_against:',df['goals_against'].std(),'\\n',\n",
    "    'save_percentage:',df['save_percentage'].std()\n",
    "    )"
   ]
  },
  {
   "cell_type": "code",
   "execution_count": 43,
   "metadata": {
    "collapsed": false
   },
   "outputs": [],
   "source": [
    "#4.4\n",
    "filt1 = df['season'].isin(['2016-17'])\n",
    "filt2 = df['games_played']>40\n",
    "mask = filt1&filt2"
   ]
  },
  {
   "cell_type": "code",
   "execution_count": 53,
   "metadata": {
    "collapsed": false
   },
   "outputs": [],
   "source": [
    "best = df.loc[df[mask]['save_percentage'].idxmax()]"
   ]
  },
  {
   "cell_type": "code",
   "execution_count": 58,
   "metadata": {
    "collapsed": false
   },
   "outputs": [
    {
     "name": "stdout",
     "output_type": "stream",
     "text": [
      "Goalkeeper with the best save percentage: Sergei Bobrovsky 0.931\n"
     ]
    }
   ],
   "source": [
    "print('Goalkeeper with the best save percentage:',best['player'],best['save_percentage'])"
   ]
  },
  {
   "cell_type": "code",
   "execution_count": 62,
   "metadata": {
    "collapsed": false
   },
   "outputs": [],
   "source": [
    "#4.5\n",
    "res = pd.DataFrame({})\n",
    "ses = []\n",
    "name = []\n",
    "saves = []\n",
    "\n",
    "\n",
    "for season in df.season.unique():\n",
    "    mask = df['season'].isin([season])\n",
    "    iid = df[mask]['saves'].idxmax()\n",
    "    name.append(df.loc[iid]['player'])\n",
    "    saves.append(df.loc[iid]['saves'])\n",
    "    ses.append(season)\n",
    "res['Name'] = name\n",
    "res['# of saves'] = saves\n",
    "res['Season'] = ses"
   ]
  },
  {
   "cell_type": "code",
   "execution_count": 63,
   "metadata": {
    "collapsed": false
   },
   "outputs": [
    {
     "data": {
      "text/html": [
       "<div>\n",
       "<table border=\"1\" class=\"dataframe\">\n",
       "  <thead>\n",
       "    <tr style=\"text-align: right;\">\n",
       "      <th></th>\n",
       "      <th>Name</th>\n",
       "      <th># of saves</th>\n",
       "      <th>Season</th>\n",
       "    </tr>\n",
       "  </thead>\n",
       "  <tbody>\n",
       "    <tr>\n",
       "      <th>0</th>\n",
       "      <td>Cam Talbot</td>\n",
       "      <td>1946</td>\n",
       "      <td>2016-17</td>\n",
       "    </tr>\n",
       "    <tr>\n",
       "      <th>1</th>\n",
       "      <td>Henrik Lundqvist</td>\n",
       "      <td>1788</td>\n",
       "      <td>2015-16</td>\n",
       "    </tr>\n",
       "    <tr>\n",
       "      <th>2</th>\n",
       "      <td>Braden Holtby</td>\n",
       "      <td>1887</td>\n",
       "      <td>2014-15</td>\n",
       "    </tr>\n",
       "  </tbody>\n",
       "</table>\n",
       "</div>"
      ],
      "text/plain": [
       "               Name  # of saves   Season\n",
       "0        Cam Talbot        1946  2016-17\n",
       "1  Henrik Lundqvist        1788  2015-16\n",
       "2     Braden Holtby        1887  2014-15"
      ]
     },
     "execution_count": 63,
     "metadata": {},
     "output_type": "execute_result"
    }
   ],
   "source": [
    "res"
   ]
  },
  {
   "cell_type": "code",
   "execution_count": 83,
   "metadata": {
    "collapsed": false
   },
   "outputs": [],
   "source": [
    "#4.6\n",
    "filt1 = df['wins']>=30\n",
    "df_4 = df[filt1]"
   ]
  },
  {
   "cell_type": "code",
   "execution_count": 84,
   "metadata": {
    "collapsed": false
   },
   "outputs": [],
   "source": [
    "df_4 = df_4.groupby('player').count()\n",
    "df_4.reset_index(inplace=True,drop=False)"
   ]
  },
  {
   "cell_type": "code",
   "execution_count": 88,
   "metadata": {
    "collapsed": false
   },
   "outputs": [
    {
     "data": {
      "text/plain": [
       "2        Braden Holtby\n",
       "5       Corey Crawford\n",
       "7         Devan Dubnyk\n",
       "9     Henrik Lundqvist\n",
       "17         Pekka Rinne\n",
       "21         Tuukka Rask\n",
       "Name: player, dtype: object"
      ]
     },
     "execution_count": 88,
     "metadata": {},
     "output_type": "execute_result"
    }
   ],
   "source": [
    "names = df_4['player'][df_4['wins'] ==3]\n",
    "names"
   ]
  },
  {
   "cell_type": "code",
   "execution_count": 93,
   "metadata": {
    "collapsed": false
   },
   "outputs": [],
   "source": [
    "res2 = df[df['player'].isin(names)][['player','wins']].groupby('player').mean()"
   ]
  },
  {
   "cell_type": "code",
   "execution_count": 94,
   "metadata": {
    "collapsed": true
   },
   "outputs": [],
   "source": [
    "res2.reset_index(inplace=True,drop=False)"
   ]
  },
  {
   "cell_type": "code",
   "execution_count": 96,
   "metadata": {
    "collapsed": false
   },
   "outputs": [],
   "source": [
    "res2.columns = ['Name','Average # of wins within season']"
   ]
  },
  {
   "cell_type": "code",
   "execution_count": 97,
   "metadata": {
    "collapsed": false
   },
   "outputs": [
    {
     "data": {
      "text/html": [
       "<div>\n",
       "<table border=\"1\" class=\"dataframe\">\n",
       "  <thead>\n",
       "    <tr style=\"text-align: right;\">\n",
       "      <th></th>\n",
       "      <th>Name</th>\n",
       "      <th>Average # of wins within season</th>\n",
       "    </tr>\n",
       "  </thead>\n",
       "  <tbody>\n",
       "    <tr>\n",
       "      <th>0</th>\n",
       "      <td>Braden Holtby</td>\n",
       "      <td>43.666667</td>\n",
       "    </tr>\n",
       "    <tr>\n",
       "      <th>1</th>\n",
       "      <td>Corey Crawford</td>\n",
       "      <td>33.000000</td>\n",
       "    </tr>\n",
       "    <tr>\n",
       "      <th>2</th>\n",
       "      <td>Devan Dubnyk</td>\n",
       "      <td>36.000000</td>\n",
       "    </tr>\n",
       "    <tr>\n",
       "      <th>3</th>\n",
       "      <td>Henrik Lundqvist</td>\n",
       "      <td>32.000000</td>\n",
       "    </tr>\n",
       "    <tr>\n",
       "      <th>4</th>\n",
       "      <td>Pekka Rinne</td>\n",
       "      <td>35.333333</td>\n",
       "    </tr>\n",
       "    <tr>\n",
       "      <th>5</th>\n",
       "      <td>Tuukka Rask</td>\n",
       "      <td>34.000000</td>\n",
       "    </tr>\n",
       "  </tbody>\n",
       "</table>\n",
       "</div>"
      ],
      "text/plain": [
       "               Name  Average # of wins within season\n",
       "0     Braden Holtby                        43.666667\n",
       "1    Corey Crawford                        33.000000\n",
       "2      Devan Dubnyk                        36.000000\n",
       "3  Henrik Lundqvist                        32.000000\n",
       "4       Pekka Rinne                        35.333333\n",
       "5       Tuukka Rask                        34.000000"
      ]
     },
     "execution_count": 97,
     "metadata": {},
     "output_type": "execute_result"
    }
   ],
   "source": [
    "res2"
   ]
  },
  {
   "cell_type": "code",
   "execution_count": null,
   "metadata": {
    "collapsed": true
   },
   "outputs": [],
   "source": []
  },
  {
   "cell_type": "code",
   "execution_count": null,
   "metadata": {
    "collapsed": true
   },
   "outputs": [],
   "source": []
  },
  {
   "cell_type": "code",
   "execution_count": null,
   "metadata": {
    "collapsed": true
   },
   "outputs": [],
   "source": []
  },
  {
   "cell_type": "code",
   "execution_count": 340,
   "metadata": {
    "collapsed": false
   },
   "outputs": [],
   "source": [
    "#problem 1\n",
    "X = np.random.randn(100,3)\n",
    "y = X.dot(np.array([1,2,3]))+np.random.randn(100)\n",
    "class OLS:\n",
    "    params = None\n",
    "    var = None\n",
    "    vcov = None\n",
    "    prediction = None\n",
    "    resid = None\n",
    "    def fit(X,y):\n",
    "        betas = ((X.T.dot(X)**(-1)).dot(X.T)).dot(y)\n",
    "        var = 1/(X.shape[0]-X.shape[1])*((y-X.dot(betas))).T.dot(y-X.dot(betas))\n",
    "        vcov = var*(X.T.dot(X))**(-1)\n",
    "        resid = y-X.dot(betas)\n",
    "        OLS.params = betas\n",
    "        OLS.var = var\n",
    "        OLS.vcov = vcov\n",
    "        OLS.resid = resid\n",
    "    def predict(x=None):\n",
    "        if x.shape == X.shape:\n",
    "            prtd = x.dot(OLS.params)\n",
    "            OLS.prediction = prtd\n",
    "            return prtd\n",
    "        else:\n",
    "            print('Error')"
   ]
  },
  {
   "cell_type": "code",
   "execution_count": 342,
   "metadata": {
    "collapsed": false
   },
   "outputs": [],
   "source": [
    "OLS.fit(X,y)"
   ]
  },
  {
   "cell_type": "code",
   "execution_count": 343,
   "metadata": {
    "collapsed": false
   },
   "outputs": [
    {
     "data": {
      "text/plain": [
       "array([ -79.92220304, -164.07207338,  -47.53876774])"
      ]
     },
     "execution_count": 343,
     "metadata": {},
     "output_type": "execute_result"
    }
   ],
   "source": [
    "OLS.params"
   ]
  },
  {
   "cell_type": "code",
   "execution_count": 336,
   "metadata": {
    "collapsed": false
   },
   "outputs": [
    {
     "data": {
      "text/plain": [
       "array([[   402.29585698, -21613.42366854,   4851.90957697],\n",
       "       [-21613.42366854,    365.47503762, -12603.30257207],\n",
       "       [  4851.90957697, -12603.30257207,    425.7069432 ]])"
      ]
     },
     "execution_count": 336,
     "metadata": {},
     "output_type": "execute_result"
    }
   ],
   "source": [
    "OLS.vcov"
   ]
  },
  {
   "cell_type": "code",
   "execution_count": 344,
   "metadata": {
    "collapsed": false
   },
   "outputs": [
    {
     "data": {
      "text/plain": [
       "array([  1.12198549e+02,  -1.94292479e+02,  -1.64044696e+02,\n",
       "        -1.67209173e+02,  -3.51171991e+02,  -1.55119283e+02,\n",
       "         4.26530969e+02,  -9.13354287e+01,  -1.95725457e+02,\n",
       "        -1.66349383e+02,  -7.25015952e+01,  -5.98684520e+01,\n",
       "         3.91550077e+02,   6.46309751e+01,   4.07602441e+02,\n",
       "        -7.73171129e+01,   1.69169647e+01,   1.12647937e+02,\n",
       "         7.87212745e+01,  -2.83154092e+02,   1.63497266e+02,\n",
       "        -3.60344281e-01,   1.20235666e+02,  -3.76576817e+02,\n",
       "        -2.70198979e+02,  -3.12829798e+02,   6.22294299e+01,\n",
       "         1.57068878e+02,   3.72539148e+02,   2.75886869e+02,\n",
       "        -3.05546863e+01,   1.34906350e+02,  -3.57293902e+00,\n",
       "        -3.21863275e+02,   1.56025037e+01,  -5.94699368e+01,\n",
       "        -9.12781116e+01,   2.70421784e+01,  -7.82074723e+01,\n",
       "         2.12460966e+02,  -2.13383178e+02,  -3.95105713e+02,\n",
       "         1.02320848e+02,  -2.04304370e+02,   5.20922019e+01,\n",
       "        -1.05268197e+02,   1.17206088e+02,   2.23521575e+02,\n",
       "         1.39896147e+02,   8.37054258e+01,  -3.18763395e+01,\n",
       "        -7.10401989e+00,   2.87461211e+02,  -2.61704311e+02,\n",
       "        -6.83615465e+01,   1.05184788e+02,   8.74958243e+01,\n",
       "        -7.81523040e+01,  -1.59548072e+02,   5.77840544e+02,\n",
       "        -2.89841693e+02,  -1.41358681e+02,  -1.06140242e+02,\n",
       "         7.07555117e+01,   4.74508158e+00,  -2.04257079e+02,\n",
       "        -1.19599052e+02,   3.34491859e+02,   2.40432067e+02,\n",
       "        -1.24889579e+02,  -7.07330476e+01,  -6.29380183e+01,\n",
       "         3.18084280e+02,  -4.97631911e+02,   2.24617205e+01,\n",
       "        -3.15462316e+02,   7.66733352e+01,   2.77946888e+02,\n",
       "        -2.08546800e+02,  -5.25842156e+01,  -5.80572372e+00,\n",
       "         1.67684310e+02,   3.86772156e+02,   1.64470645e+02,\n",
       "         2.38212399e+02,   3.99419448e+01,   1.96075468e+02,\n",
       "        -1.45681594e+02,   2.90383828e+02,   1.60308118e+01,\n",
       "         3.38874008e+02,  -1.56582681e+02,  -2.53879044e+02,\n",
       "         5.41220609e+00,  -2.29959520e+02,   9.48166189e+01,\n",
       "         8.10019873e+01,   1.23095255e+02,   1.26854222e+02,\n",
       "        -1.67906245e+02])"
      ]
     },
     "execution_count": 344,
     "metadata": {},
     "output_type": "execute_result"
    }
   ],
   "source": [
    "OLS.resid"
   ]
  },
  {
   "cell_type": "code",
   "execution_count": 345,
   "metadata": {
    "collapsed": false
   },
   "outputs": [
    {
     "data": {
      "text/plain": [
       "array([-115.72765198,  190.09500709,  161.62390791,  162.07501143,\n",
       "        343.93705576,  151.98598681, -421.55879349,   89.0446991 ,\n",
       "        196.44577716,  166.89481984,   71.49869586,   65.00850369,\n",
       "       -388.53945423,  -61.32903878, -402.85890291,   77.57029085,\n",
       "        -15.31492967, -107.16008899,  -77.91103026,  280.12161699,\n",
       "       -158.42716325,    1.20428185, -121.41828778,  369.47102271,\n",
       "        263.81547623,  308.0128201 ,  -60.50389319, -149.61713489,\n",
       "       -368.82320767, -265.17193343,   29.5248254 , -134.01115404,\n",
       "          5.5622202 ,  314.90591436,  -15.92696542,   57.69664959,\n",
       "         86.93777553,  -29.86306366,   77.36650957, -211.70979435,\n",
       "        208.6510919 ,  392.39964656,  -96.24993261,  201.11204283,\n",
       "        -50.20537931,  103.56362288, -111.316377  , -223.98112021,\n",
       "       -134.21059341,  -81.81847984,   29.99113874,    5.86027325,\n",
       "       -281.47693276,  261.29281787,   71.98504849, -105.07405777,\n",
       "        -83.98045261,   78.98385344,  159.06316843, -567.35945466,\n",
       "        282.24047742,  140.59606107,  108.34390251,  -70.38320691,\n",
       "         -7.04587741,  199.22812265,  118.9962182 , -331.78660001,\n",
       "       -240.83830688,  120.74840524,   70.47634187,   60.77545941,\n",
       "       -312.80241044,  491.59986832,  -22.10790155,  307.4808022 ,\n",
       "        -81.36446963, -271.98856731,  204.74665349,   53.87633443,\n",
       "          7.52637145, -163.80159591, -378.1663371 , -155.46865452,\n",
       "       -234.93866075,  -42.5292822 , -193.13725022,  141.29284396,\n",
       "       -287.57481998,  -15.39958782, -336.34518887,  153.02281637,\n",
       "        243.17048139,   -3.19870035,  224.94605285,  -92.10116234,\n",
       "        -81.93425855, -119.87553766, -123.77497322,  165.76225903])"
      ]
     },
     "execution_count": 345,
     "metadata": {},
     "output_type": "execute_result"
    }
   ],
   "source": [
    "OLS.predict(X)"
   ]
  },
  {
   "cell_type": "code",
   "execution_count": null,
   "metadata": {
    "collapsed": true
   },
   "outputs": [],
   "source": []
  },
  {
   "cell_type": "code",
   "execution_count": null,
   "metadata": {
    "collapsed": true
   },
   "outputs": [],
   "source": []
  },
  {
   "cell_type": "code",
   "execution_count": null,
   "metadata": {
    "collapsed": true
   },
   "outputs": [],
   "source": []
  },
  {
   "cell_type": "code",
   "execution_count": null,
   "metadata": {
    "collapsed": true
   },
   "outputs": [],
   "source": []
  },
  {
   "cell_type": "code",
   "execution_count": null,
   "metadata": {
    "collapsed": true
   },
   "outputs": [],
   "source": []
  },
  {
   "cell_type": "code",
   "execution_count": 346,
   "metadata": {
    "collapsed": true
   },
   "outputs": [],
   "source": [
    "#problem2"
   ]
  },
  {
   "cell_type": "code",
   "execution_count": 693,
   "metadata": {
    "collapsed": false
   },
   "outputs": [],
   "source": [
    "bets = np.random.rand(1,10)"
   ]
  },
  {
   "cell_type": "code",
   "execution_count": 705,
   "metadata": {
    "collapsed": true
   },
   "outputs": [],
   "source": [
    "def factorial(x):\n",
    "    if x == 0:\n",
    "        return 1\n",
    "    else:\n",
    "        return x * factorial(x - 1)"
   ]
  },
  {
   "cell_type": "code",
   "execution_count": 710,
   "metadata": {
    "collapsed": false
   },
   "outputs": [],
   "source": [
    "x = []\n",
    "u = []\n",
    "y = []\n",
    "for i in range(100+1):\n",
    "    x_raw = np.random.uniform(-5,5)\n",
    "    u_raw = np.random.normal(0,100)\n",
    "    y_raw = []\n",
    "    k = 0\n",
    "    while k <10:\n",
    "        y_raw.append(bets[0][k]*(x_raw**k)/factorial(k)+u_raw)\n",
    "        k+=1\n",
    "    x.append(x_raw)\n",
    "    u.append(u_raw)\n",
    "    y.append(sum(y_raw))\n",
    "x = np.array(x)\n",
    "u = np.array(u)\n",
    "y = np.array(y)"
   ]
  },
  {
   "cell_type": "code",
   "execution_count": null,
   "metadata": {
    "collapsed": false
   },
   "outputs": [],
   "source": []
  },
  {
   "cell_type": "code",
   "execution_count": 713,
   "metadata": {
    "collapsed": true
   },
   "outputs": [],
   "source": [
    "import matplotlib.pyplot as plt"
   ]
  },
  {
   "cell_type": "code",
   "execution_count": 729,
   "metadata": {
    "collapsed": false
   },
   "outputs": [
    {
     "data": {
      "image/png": "[encoded data removed]",
      "text/plain": [
       "<matplotlib.figure.Figure at 0x118e6b748>"
      ]
     },
     "metadata": {},
     "output_type": "display_data"
    }
   ],
   "source": [
    "plt.plot(x,y,'bo')\n",
    "plt.show()"
   ]
  },
  {
   "cell_type": "code",
   "execution_count": 740,
   "metadata": {
    "collapsed": false
   },
   "outputs": [],
   "source": [
    "x = np.vstack(x**3)\n",
    "y = np.vstack(y)"
   ]
  },
  {
   "cell_type": "code",
   "execution_count": 741,
   "metadata": {
    "collapsed": false
   },
   "outputs": [],
   "source": [
    "OLS.fit(x,y)"
   ]
  },
  {
   "cell_type": "code",
   "execution_count": null,
   "metadata": {
    "collapsed": false
   },
   "outputs": [],
   "source": []
  },
  {
   "cell_type": "code",
   "execution_count": 742,
   "metadata": {
    "collapsed": false
   },
   "outputs": [
    {
     "data": {
      "image/png": "[encoded data removed]",
      "text/plain": [
       "<matplotlib.figure.Figure at 0x1191dd588>"
      ]
     },
     "metadata": {},
     "output_type": "display_data"
    }
   ],
   "source": [
    "plt.plot(x,y,'bo')\n",
    "plt.plot(OLS.prediction)\n",
    "plt.show()"
   ]
  },
  {
   "cell_type": "code",
   "execution_count": null,
   "metadata": {
    "collapsed": true
   },
   "outputs": [],
   "source": []
  }
 ],
 "metadata": {
  "anaconda-cloud": {},
  "kernelspec": {
   "display_name": "Python [conda root]",
   "language": "python",
   "name": "conda-root-py"
  },
  "language_info": {
   "codemirror_mode": {
    "name": "ipython",
    "version": 3
   },
   "file_extension": ".py",
   "mimetype": "text/x-python",
   "name": "python",
   "nbconvert_exporter": "python",
   "pygments_lexer": "ipython3",
   "version": "3.5.2"
  }
 },
 "nbformat": 4,
 "nbformat_minor": 1
}
